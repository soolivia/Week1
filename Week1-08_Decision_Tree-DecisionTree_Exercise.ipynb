{
  "cells": [
    {
      "cell_type": "markdown",
      "source": "# Decision Tree Worksheet",
      "metadata": {
        "id": "-UimMCmGe19F",
        "colab_type": "text",
        "cell_id": "36d02565a4b7409184a2cf571d2ad338",
        "deepnote_cell_type": "markdown"
      }
    },
    {
      "cell_type": "code",
      "source": "import numpy as np\nimport pandas as po\nfrom sklearn.model_selection import train_test_split\nfrom sklearn.tree import DecisionTreeClassifier\nfrom sklearn.metrics import accuracy_score\nfrom sklearn import tree\nfrom sklearn.ensemble import RandomForestClassifier\nfrom sklearn import metrics\nimport graphviz\nimport matplotlib.pyplot as plt",
      "metadata": {
        "id": "kedW02LgKjVL",
        "colab": {
          "autoexec": {
            "startup": false,
            "wait_interval": 0
          }
        },
        "colab_type": "code",
        "source_hash": "83f21d38",
        "execution_start": 1625523304867,
        "execution_millis": 1491,
        "deepnote_to_be_reexecuted": false,
        "cell_id": "674adf2de9c44f4095d1e6bfbc09cf70",
        "deepnote_cell_type": "code"
      },
      "outputs": [],
      "execution_count": 1
    },
    {
      "cell_type": "markdown",
      "source": "## Loading data\n\nLoad Pima diabetes dataset and split data, with test size 20% and validaton 20%.",
      "metadata": {
        "id": "rz35eT5-SMht",
        "colab_type": "text",
        "cell_id": "8764b49fb0c34c3e90dc2e47a0e6e174",
        "deepnote_cell_type": "markdown"
      }
    },
    {
      "cell_type": "code",
      "source": "url = \"https://raw.githubusercontent.com/jbrownlee/Datasets/master/pima-indians-diabetes.data.csv\"\nnames = ['preg', 'plas', 'pres', 'skin', 'test', 'mass', 'pedi', 'age', 'class']\n\n## YOUR CODE HERE",
      "metadata": {
        "id": "Ydh9gmDkMGmu",
        "colab": {
          "autoexec": {
            "startup": false,
            "wait_interval": 0
          }
        },
        "colab_type": "code",
        "source_hash": "7da8daf0",
        "execution_start": 1625523316115,
        "execution_millis": 3,
        "deepnote_to_be_reexecuted": false,
        "cell_id": "03b038dcb6a349cd928e0dc6b05022a9",
        "deepnote_cell_type": "code"
      },
      "outputs": [],
      "execution_count": 2
    },
    {
      "cell_type": "markdown",
      "source": "## Creating Model\n\nMake a model using sklearn's DecisionTreeClassifier, with a high max-depth and low minimum sample leafs.",
      "metadata": {
        "id": "KAFhsJIsSpMR",
        "colab_type": "text",
        "cell_id": "be7f28adc3164a21b2467097c701f5ad",
        "deepnote_cell_type": "markdown"
      }
    },
    {
      "cell_type": "code",
      "source": "## YOUR CODE HERE",
      "metadata": {
        "id": "fHbA28aFS2DM",
        "colab": {
          "autoexec": {
            "startup": false,
            "wait_interval": 0
          }
        },
        "colab_type": "code",
        "cell_id": "e14741ffe7e94856acabd2b04f174d3e",
        "deepnote_cell_type": "code"
      },
      "outputs": [],
      "execution_count": 0
    },
    {
      "cell_type": "markdown",
      "source": "Print accuracy of training and validation data.",
      "metadata": {
        "id": "4_8DZinWTJRa",
        "colab_type": "text",
        "cell_id": "cb5b8f647a1840dfa64ce17c79b8fcd2",
        "deepnote_cell_type": "markdown"
      }
    },
    {
      "cell_type": "code",
      "source": "## YOUR CODE HERE",
      "metadata": {
        "id": "EgByCP_EhyB2",
        "colab": {
          "autoexec": {
            "startup": false,
            "wait_interval": 0
          }
        },
        "colab_type": "code",
        "cell_id": "804cd6e681b746cbb3f005702dadec33",
        "deepnote_cell_type": "code"
      },
      "outputs": [],
      "execution_count": 0
    },
    {
      "cell_type": "markdown",
      "source": "Make a model with a low max-depth and higher minimum sample leafs.",
      "metadata": {
        "id": "6HNa6fxbT6ak",
        "colab_type": "text",
        "cell_id": "5a13157640bb46379c62a43a9ec3252a",
        "deepnote_cell_type": "markdown"
      }
    },
    {
      "cell_type": "code",
      "source": "## YOUR CODE HERE",
      "metadata": {
        "id": "6Pbu-t_tiqnB",
        "colab": {
          "height": 17,
          "autoexec": {
            "startup": false,
            "wait_interval": 0
          },
          "base_uri": "https://localhost:8080/"
        },
        "outputId": "ef95b427-e6b4-41a7-f992-9826342b662c",
        "colab_type": "code",
        "executionInfo": {
          "user": {
            "userId": "102241934905781120798",
            "photoUrl": "https://lh3.googleusercontent.com/a/default-user=s128",
            "displayName": "john passarelli"
          },
          "status": "ok",
          "elapsed": 287,
          "user_tz": 240,
          "timestamp": 1530627778885
        },
        "cell_id": "86bbb57a28254d3fa499284cfa394355",
        "deepnote_cell_type": "code"
      },
      "outputs": [],
      "execution_count": 1
    },
    {
      "cell_type": "markdown",
      "source": "Print accuracy of training and validation data.",
      "metadata": {
        "cell_id": "5f9a993e6b9941c38a15a5e036596772",
        "deepnote_cell_type": "markdown"
      }
    },
    {
      "cell_type": "code",
      "source": "## YOUR CODE HERE",
      "metadata": {
        "cell_id": "1392aa7f3ea74846bb293fa1aca3cdbd",
        "deepnote_cell_type": "code"
      },
      "outputs": [],
      "execution_count": null
    },
    {
      "cell_type": "markdown",
      "source": "Explain the accuracy results below. \n\n(YOUR ANSWER HERE)",
      "metadata": {
        "cell_id": "0e0f4b67e038400a985c160820d185db",
        "deepnote_cell_type": "markdown"
      }
    },
    {
      "cell_type": "markdown",
      "source": "## Metrics",
      "metadata": {
        "cell_id": "3a19f53da6de4bd4b41b66eeaf8d36d3",
        "deepnote_cell_type": "markdown"
      }
    },
    {
      "cell_type": "markdown",
      "source": "Plot the ROC curve and print the AUC of the second model.",
      "metadata": {
        "cell_id": "cfe3001784e14b5a8cfe25a6aa119a67",
        "deepnote_cell_type": "markdown"
      }
    },
    {
      "cell_type": "code",
      "source": "## YOUR CODE HERE",
      "metadata": {
        "cell_id": "8b8b426ed807486699ae6e4ccfce422a",
        "deepnote_cell_type": "code"
      },
      "outputs": [],
      "execution_count": null
    },
    {
      "cell_type": "markdown",
      "source": "Use graphviz to visualize your 2nd tree.",
      "metadata": {
        "id": "tKdqOMBKUvGZ",
        "colab_type": "text",
        "cell_id": "d3dbd072e0464b41b25fe16267996edf",
        "deepnote_cell_type": "markdown"
      }
    },
    {
      "cell_type": "code",
      "source": "## YOUR CODE HERE",
      "metadata": {
        "id": "8o55bY_jl8gj",
        "colab": {
          "autoexec": {
            "startup": false,
            "wait_interval": 0
          }
        },
        "colab_type": "code",
        "cell_id": "8237e3b03b9643649fdba1df4f567d6a",
        "deepnote_cell_type": "code"
      },
      "outputs": [],
      "execution_count": 0
    },
    {
      "cell_type": "markdown",
      "source": "#### Use the graph above to answer the questions below",
      "metadata": {
        "id": "4iz4meWDVmo2",
        "colab_type": "text",
        "cell_id": "00455c9f847549f1a2d8a96b86871ea4",
        "deepnote_cell_type": "markdown"
      }
    },
    {
      "cell_type": "markdown",
      "source": "Question 1: What do you think X[n] represents in the nodes from the graph?\n\n(YOUR ANSWER HERE)",
      "metadata": {
        "id": "u1yM9h10WUEv",
        "colab_type": "text",
        "cell_id": "68c672b241384ae3806819de55b93537",
        "deepnote_cell_type": "markdown"
      }
    },
    {
      "cell_type": "markdown",
      "source": "Question 2: What is the root feature? Does it make sense as the root feature?\n\n(YOUR ANSWER HERE)",
      "metadata": {
        "id": "rA7B0oTaWUIe",
        "colab_type": "text",
        "cell_id": "cc6fdc0ccf5446b09e8b52754f738fa9",
        "deepnote_cell_type": "markdown"
      }
    },
    {
      "cell_type": "markdown",
      "source": "Question 3: If you were to change the parameters to have a max_depth of 500 and min_samples_leaf of 1, what do you think the effect would be on the test accuracy? Training accuracy?\n\n(YOUR ANSWER HERE)",
      "metadata": {
        "id": "1t559pS3ZHES",
        "colab_type": "text",
        "cell_id": "10c9fb76ac584c57b97a95730314e17a",
        "deepnote_cell_type": "markdown"
      }
    },
    {
      "cell_type": "markdown",
      "source": "**Test your guesses, create a model with max_depth=500 and min_samples_leaf=1, and predict values for the training and validation data**",
      "metadata": {
        "id": "7dnlqId2bIcR",
        "colab_type": "text",
        "cell_id": "36df68c3d58a4060952e9ea540c9e153",
        "deepnote_cell_type": "markdown"
      }
    },
    {
      "cell_type": "code",
      "source": "## YOUR CODE HERE",
      "metadata": {
        "id": "hnUQKX9vl9Gy",
        "colab": {
          "height": 17,
          "autoexec": {
            "startup": false,
            "wait_interval": 0
          },
          "base_uri": "https://localhost:8080/"
        },
        "outputId": "ebaa5e52-a33f-4749-a3f6-6a3fde24da1f",
        "colab_type": "code",
        "executionInfo": {
          "user": {
            "userId": "102241934905781120798",
            "photoUrl": "https://lh3.googleusercontent.com/a/default-user=s128",
            "displayName": "john passarelli"
          },
          "status": "ok",
          "elapsed": 235,
          "user_tz": 240,
          "timestamp": 1530627843330
        },
        "cell_id": "1977177be09d4a808a4e7c31b53a3f3f",
        "deepnote_cell_type": "code"
      },
      "outputs": [],
      "execution_count": 3
    },
    {
      "cell_type": "markdown",
      "source": "# Random Forest",
      "metadata": {
        "id": "40Psyt65pD8p",
        "colab_type": "text",
        "cell_id": "e250c1f3f16448f092627a2c2bc4fae0",
        "deepnote_cell_type": "markdown"
      }
    },
    {
      "cell_type": "markdown",
      "source": "## Creating Model\n\nCreate a model with sklearn's RandomForestClassifier and predict values on your validation set.",
      "metadata": {
        "id": "mjLu1MLIpGNF",
        "colab_type": "text",
        "cell_id": "fe80deb9c6fc4ccebde0e545d13e595d",
        "deepnote_cell_type": "markdown"
      }
    },
    {
      "cell_type": "code",
      "source": "## YOUR CODE HERE",
      "metadata": {
        "id": "TYwbpWxUfDIY",
        "colab": {
          "height": 37,
          "autoexec": {
            "startup": false,
            "wait_interval": 0
          },
          "base_uri": "https://localhost:8080/"
        },
        "outputId": "0008a18f-a9e3-4c04-b42e-adc8ce9aa966",
        "colab_type": "code",
        "executionInfo": {
          "user": {
            "userId": "102241934905781120798",
            "photoUrl": "https://lh3.googleusercontent.com/a/default-user=s128",
            "displayName": "john passarelli"
          },
          "status": "ok",
          "elapsed": 318,
          "user_tz": 240,
          "timestamp": 1530627847311
        },
        "cell_id": "61436cba76464311aed81ef45ae14e49",
        "deepnote_cell_type": "code"
      },
      "outputs": [],
      "execution_count": 4
    },
    {
      "cell_type": "markdown",
      "source": "Print accuracy of training and validation data.",
      "metadata": {
        "id": "6Ys_J3O4pd0u",
        "colab_type": "text",
        "cell_id": "1053dd09ff8d4df99a4c17a50d78ba9d",
        "deepnote_cell_type": "markdown"
      }
    },
    {
      "cell_type": "code",
      "source": "## YOUR CODE HERE",
      "metadata": {
        "id": "aQdfjEWdfDOH",
        "colab": {
          "height": 17,
          "autoexec": {
            "startup": false,
            "wait_interval": 0
          },
          "base_uri": "https://localhost:8080/"
        },
        "outputId": "751008b5-156c-4bea-d599-37f84bd1b60c",
        "colab_type": "code",
        "executionInfo": {
          "user": {
            "userId": "102241934905781120798",
            "photoUrl": "https://lh3.googleusercontent.com/a/default-user=s128",
            "displayName": "john passarelli"
          },
          "status": "ok",
          "elapsed": 337,
          "user_tz": 240,
          "timestamp": 1530627851278
        },
        "cell_id": "b80daba74d634d2ab352700ddea1f93a",
        "deepnote_cell_type": "code"
      },
      "outputs": [],
      "execution_count": 5
    },
    {
      "cell_type": "markdown",
      "source": "How did the accuracy compare to the decision tree's accuracy?\n\n(YOUR ANSWER HERE)",
      "metadata": {
        "cell_id": "0fa49921eb3a48c7ba22c11293796c5c",
        "deepnote_cell_type": "markdown"
      }
    },
    {
      "cell_type": "markdown",
      "source": "Print the 3 most important features (hint: sklearn has an attribute to help you find these)",
      "metadata": {
        "id": "jGlSHxuUqAnX",
        "colab_type": "text",
        "cell_id": "ff8f49ac2b844b1aaef9c8040d262983",
        "deepnote_cell_type": "markdown"
      }
    },
    {
      "cell_type": "code",
      "source": "## YOUR CODE HERE",
      "metadata": {
        "id": "5rVekWn0qw3r",
        "colab": {
          "height": 17,
          "autoexec": {
            "startup": false,
            "wait_interval": 0
          },
          "base_uri": "https://localhost:8080/"
        },
        "outputId": "d5e516d3-4f91-4394-b2e5-f26427b404ef",
        "colab_type": "code",
        "executionInfo": {
          "user": {
            "userId": "102241934905781120798",
            "photoUrl": "https://lh3.googleusercontent.com/a/default-user=s128",
            "displayName": "john passarelli"
          },
          "status": "ok",
          "elapsed": 448,
          "user_tz": 240,
          "timestamp": 1530627855691
        },
        "cell_id": "e36f2c82aad44b5580dff9188ad7128f",
        "deepnote_cell_type": "code"
      },
      "outputs": [],
      "execution_count": 6
    },
    {
      "cell_type": "markdown",
      "source": "Find the accuracy for random forests with 1 to 100 trees, counting by 5. Print and then plot these accuracies.",
      "metadata": {
        "id": "lynu8pLDtd0S",
        "colab_type": "text",
        "cell_id": "dc44ad2ca9084b889617f6d06cc94df3",
        "deepnote_cell_type": "markdown"
      }
    },
    {
      "cell_type": "code",
      "source": "## YOUR CODE HERE",
      "metadata": {
        "id": "e2hG7npcuM7f",
        "colab": {
          "height": 17,
          "autoexec": {
            "startup": false,
            "wait_interval": 0
          },
          "base_uri": "https://localhost:8080/"
        },
        "outputId": "fb9e32ed-fb17-462e-a2f2-8db7964bb3d7",
        "colab_type": "code",
        "executionInfo": {
          "user": {
            "userId": "102241934905781120798",
            "photoUrl": "https://lh3.googleusercontent.com/a/default-user=s128",
            "displayName": "john passarelli"
          },
          "status": "ok",
          "elapsed": 371,
          "user_tz": 240,
          "timestamp": 1530627860158
        },
        "cell_id": "433f726b301242d999b42ef0313c21e5",
        "deepnote_cell_type": "code"
      },
      "outputs": [],
      "execution_count": 7
    },
    {
      "cell_type": "markdown",
      "source": "Plot the roc_curve using predict_proba a function for our random forest model, and metrics.roc_curve\n\nIt might help to google these functions and look at sklearn's documentation.",
      "metadata": {
        "cell_id": "abe12044519d461cb9939152a22a6545",
        "deepnote_cell_type": "markdown"
      }
    },
    {
      "cell_type": "code",
      "source": "## YOUR CODE HERE",
      "metadata": {
        "cell_id": "ca5e8b5800ac4a259aa40b83e97b5e05",
        "deepnote_cell_type": "code"
      },
      "outputs": [],
      "execution_count": null
    },
    {
      "cell_type": "markdown",
      "source": "<a style='text-decoration:none;line-height:16px;display:flex;color:#5B5B62;padding:10px;justify-content:end;' href='https://deepnote.com?utm_source=created-in-deepnote-cell&projectId=050bb9fe-1507-4f92-8f7e-3531e1ab3657' target=\"_blank\">\n<img alt='Created in deepnote.com' style='display:inline;max-height:16px;margin:0px;margin-right:7.5px;' src='data:image/svg+xml;base64,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' > </img>\nCreated in <span style='font-weight:600;margin-left:4px;'>Deepnote</span></a>",
      "metadata": {
        "created_in_deepnote_cell": true,
        "deepnote_cell_type": "markdown"
      }
    }
  ],
  "nbformat": 4,
  "nbformat_minor": 0,
  "metadata": {
    "colab": {
      "name": "DecisionTreeWorksheetStudent",
      "views": {},
      "version": "0.3.2",
      "provenance": [
        {
          "file_id": "165CSmT99w4_Sv1UENIyvIkH7ZEw2Xeh8",
          "timestamp": 1527780043079
        }
      ],
      "default_view": {},
      "collapsed_sections": []
    },
    "deepnote": {},
    "kernelspec": {
      "name": "python3",
      "language": "python",
      "display_name": "Python 3"
    },
    "language_info": {
      "name": "python",
      "version": "3.7.3",
      "mimetype": "text/x-python",
      "file_extension": ".py",
      "pygments_lexer": "ipython3",
      "codemirror_mode": {
        "name": "ipython",
        "version": 3
      },
      "nbconvert_exporter": "python"
    },
    "deepnote_notebook_id": "88422023b08146f396cffa8f00bb16f3",
    "deepnote_execution_queue": []
  }
}