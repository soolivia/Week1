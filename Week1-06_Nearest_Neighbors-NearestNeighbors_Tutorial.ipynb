{
  "cells": [
    {
      "cell_type": "markdown",
      "source": "# Nearest Neighbors Tutorial",
      "metadata": {
        "id": "S36f2M-S6bsV",
        "colab_type": "text",
        "cell_id": "13ea9b28fb2d44219d22a12bd208515d",
        "deepnote_cell_type": "markdown"
      }
    },
    {
      "cell_type": "markdown",
      "source": "The basic concept for **Nearest Neighbors Algorithms** (NNAs) is to classify a datum by finding one or more points that have similar features. The most similar points are called the **nearest neighbors**. Once found, the input datum can be put in the same class as its neighbors. We can also use this to predict the value of missing features for the input datum.",
      "metadata": {
        "id": "Xb0q8y0rq6Ve",
        "colab_type": "text",
        "cell_id": "8599ef2c9b0b4e04b7d14caeb72f56d1",
        "deepnote_cell_type": "markdown"
      }
    },
    {
      "cell_type": "markdown",
      "source": "## k-Nearest Neighbors\n\nThe most commonly used NNA is **k-Nearest Neighbors,** in which the top $k$ nearest neighbors (best matches) are identified. In most instantiations of k-NNA, classification or prediction is based on a **majority vote** of the $k$ nearest neighbors.\n>For example, if $k = 5$, and at least 3 out of the 5 nearest neighbors to an input datum are class A, then we would assign the new datum to class A.\n\nFor a more complex example, see the image below. Here, if $k = 1$, the green circle would be assigned to Class 1, since the nearest point is a blue square. However, if $k = 3$ the answer becomes Class 2, since the next two closest are both red triangles.\n\n\n![alt text](https://cdn-images-1.medium.com/max/1600/0*Sk18h9op6uK9EpT8.)",
      "metadata": {
        "id": "PdwUJygSGU9F",
        "colab_type": "text",
        "cell_id": "5a50790784214f1fb33a87ecf033d599",
        "deepnote_cell_type": "markdown"
      }
    },
    {
      "cell_type": "markdown",
      "source": "## Quick example to illustrate a kNN:\n\nIn this section, we will use sklearn to build a k-NNA model for a data set describing cars. Our goal will be to classify the cars into one of two categories: \"cool\" or \"uncool.\" Clearly these are subjective terms, but that's ok: we will provide a manually classified training set.\n\nFor example, if we consider the variables *horsepower, number of seats,* and *manual (0) or automatic (1)*, our manually classified training set might look like this:\n\n*   150, 5, 0, uncool (2008 Honda Civic)  \n*   320, 5, 0, cool (2011 Dodge Charger)\n*   383, 3, 1, cool (1985 Chevy Blazer)\n*   210, 7, 0, uncool (2001 Honda Odyssey)\n\nLet's say we're trying to predict whether the 2017 Bugatti Veyron (1500hp, 2 seats, manual: 1) is cool or not. Our first step is to load the data into a python structure.",
      "metadata": {
        "id": "iZrldzQgy9ud",
        "colab_type": "text",
        "cell_id": "e6b82c867635418692dbf5b2497ec524",
        "deepnote_cell_type": "markdown"
      }
    },
    {
      "cell_type": "code",
      "source": "import numpy as np\nimport pandas as pd",
      "metadata": {
        "id": "p64sH6r76vWE",
        "colab": {},
        "colab_type": "code",
        "source_hash": "b7dcc9c8",
        "execution_start": 1625523142415,
        "execution_millis": 3,
        "deepnote_to_be_reexecuted": false,
        "cell_id": "15142c4ad71b4a4ba327596ce1770bc1",
        "deepnote_cell_type": "code"
      },
      "outputs": [],
      "execution_count": 1
    },
    {
      "cell_type": "markdown",
      "source": "### Loading the data",
      "metadata": {
        "id": "wX6Uc4e-61NI",
        "colab_type": "text",
        "cell_id": "b27f0c0855c1464ba122ff4869e98264",
        "deepnote_cell_type": "markdown"
      }
    },
    {
      "cell_type": "code",
      "source": "cars_dict = {'2008 Honda Civic':    {'hp':150., 'seats':5., 'auto':0., 'cool':0}, \n             '2011 Dodge Charger' : {'hp':320., 'seats':5., 'auto':0., 'cool':1}, \n             '1985 Chevy Blazer':   {'hp':383., 'seats':3., 'auto':1., 'cool':1}, \n             '2001 Honda Odyssey':  {'hp':210., 'seats':7., 'auto':0., 'cool':0}, \n             '2017 Bugatti Veyron': {'hp':1500.,'seats':2., 'auto':1., 'cool':None}}\n\ndata = pd.DataFrame.from_dict(cars_dict,orient='index')\ndata",
      "metadata": {
        "id": "s4VMsygjy9ue",
        "colab": {
          "height": 206,
          "base_uri": "https://localhost:8080/"
        },
        "outputId": "4b0d7029-00a0-4c7f-e807-b1a9cd19d3d5",
        "colab_type": "code",
        "source_hash": "d1409e7",
        "execution_start": 1625523143233,
        "execution_millis": 38,
        "deepnote_to_be_reexecuted": false,
        "cell_id": "9419fa8a2e4a468e831713d3573e097c",
        "deepnote_cell_type": "code"
      },
      "outputs": [
        {
          "output_type": "execute_result",
          "execution_count": 2,
          "data": {
            "application/vnd.deepnote.dataframe.v2+json": {
              "row_count": 5,
              "column_count": 4,
              "columns": [
                {
                  "name": "hp",
                  "dtype": "float64",
                  "stats": {
                    "unique_count": 5,
                    "nan_count": 0,
                    "min": "150.0",
                    "max": "1500.0",
                    "histogram": [
                      {
                        "bin_start": 150,
                        "bin_end": 285,
                        "count": 2
                      },
                      {
                        "bin_start": 285,
                        "bin_end": 420,
                        "count": 2
                      },
                      {
                        "bin_start": 420,
                        "bin_end": 555,
                        "count": 0
                      },
                      {
                        "bin_start": 555,
                        "bin_end": 690,
                        "count": 0
                      },
                      {
                        "bin_start": 690,
                        "bin_end": 825,
                        "count": 0
                      },
                      {
                        "bin_start": 825,
                        "bin_end": 960,
                        "count": 0
                      },
                      {
                        "bin_start": 960,
                        "bin_end": 1095,
                        "count": 0
                      },
                      {
                        "bin_start": 1095,
                        "bin_end": 1230,
                        "count": 0
                      },
                      {
                        "bin_start": 1230,
                        "bin_end": 1365,
                        "count": 0
                      },
                      {
                        "bin_start": 1365,
                        "bin_end": 1500,
                        "count": 1
                      }
                    ]
                  }
                },
                {
                  "name": "seats",
                  "dtype": "float64",
                  "stats": {
                    "unique_count": 4,
                    "nan_count": 0,
                    "min": "2.0",
                    "max": "7.0",
                    "histogram": [
                      {
                        "bin_start": 2,
                        "bin_end": 2.5,
                        "count": 1
                      },
                      {
                        "bin_start": 2.5,
                        "bin_end": 3,
                        "count": 0
                      },
                      {
                        "bin_start": 3,
                        "bin_end": 3.5,
                        "count": 1
                      },
                      {
                        "bin_start": 3.5,
                        "bin_end": 4,
                        "count": 0
                      },
                      {
                        "bin_start": 4,
                        "bin_end": 4.5,
                        "count": 0
                      },
                      {
                        "bin_start": 4.5,
                        "bin_end": 5,
                        "count": 0
                      },
                      {
                        "bin_start": 5,
                        "bin_end": 5.5,
                        "count": 2
                      },
                      {
                        "bin_start": 5.5,
                        "bin_end": 6,
                        "count": 0
                      },
                      {
                        "bin_start": 6,
                        "bin_end": 6.5,
                        "count": 0
                      },
                      {
                        "bin_start": 6.5,
                        "bin_end": 7,
                        "count": 1
                      }
                    ]
                  }
                },
                {
                  "name": "auto",
                  "dtype": "float64",
                  "stats": {
                    "unique_count": 2,
                    "nan_count": 0,
                    "min": "0.0",
                    "max": "1.0",
                    "histogram": [
                      {
                        "bin_start": 0,
                        "bin_end": 0.1,
                        "count": 3
                      },
                      {
                        "bin_start": 0.1,
                        "bin_end": 0.2,
                        "count": 0
                      },
                      {
                        "bin_start": 0.2,
                        "bin_end": 0.30000000000000004,
                        "count": 0
                      },
                      {
                        "bin_start": 0.30000000000000004,
                        "bin_end": 0.4,
                        "count": 0
                      },
                      {
                        "bin_start": 0.4,
                        "bin_end": 0.5,
                        "count": 0
                      },
                      {
                        "bin_start": 0.5,
                        "bin_end": 0.6000000000000001,
                        "count": 0
                      },
                      {
                        "bin_start": 0.6000000000000001,
                        "bin_end": 0.7000000000000001,
                        "count": 0
                      },
                      {
                        "bin_start": 0.7000000000000001,
                        "bin_end": 0.8,
                        "count": 0
                      },
                      {
                        "bin_start": 0.8,
                        "bin_end": 0.9,
                        "count": 0
                      },
                      {
                        "bin_start": 0.9,
                        "bin_end": 1,
                        "count": 2
                      }
                    ]
                  }
                },
                {
                  "name": "cool",
                  "dtype": "float64",
                  "stats": {
                    "unique_count": 2,
                    "nan_count": 1,
                    "min": "0.0",
                    "max": "1.0",
                    "histogram": [
                      {
                        "bin_start": 0,
                        "bin_end": 0.1,
                        "count": 2
                      },
                      {
                        "bin_start": 0.1,
                        "bin_end": 0.2,
                        "count": 0
                      },
                      {
                        "bin_start": 0.2,
                        "bin_end": 0.30000000000000004,
                        "count": 0
                      },
                      {
                        "bin_start": 0.30000000000000004,
                        "bin_end": 0.4,
                        "count": 0
                      },
                      {
                        "bin_start": 0.4,
                        "bin_end": 0.5,
                        "count": 0
                      },
                      {
                        "bin_start": 0.5,
                        "bin_end": 0.6000000000000001,
                        "count": 0
                      },
                      {
                        "bin_start": 0.6000000000000001,
                        "bin_end": 0.7000000000000001,
                        "count": 0
                      },
                      {
                        "bin_start": 0.7000000000000001,
                        "bin_end": 0.8,
                        "count": 0
                      },
                      {
                        "bin_start": 0.8,
                        "bin_end": 0.9,
                        "count": 0
                      },
                      {
                        "bin_start": 0.9,
                        "bin_end": 1,
                        "count": 2
                      }
                    ]
                  }
                },
                {
                  "name": "_deepnote_index_column",
                  "dtype": "object"
                }
              ],
              "rows_top": [
                {
                  "hp": 150,
                  "seats": 5,
                  "auto": 0,
                  "cool": 0,
                  "_deepnote_index_column": "2008 Honda Civic"
                },
                {
                  "hp": 320,
                  "seats": 5,
                  "auto": 0,
                  "cool": 1,
                  "_deepnote_index_column": "2011 Dodge Charger"
                },
                {
                  "hp": 383,
                  "seats": 3,
                  "auto": 1,
                  "cool": 1,
                  "_deepnote_index_column": "1985 Chevy Blazer"
                },
                {
                  "hp": 210,
                  "seats": 7,
                  "auto": 0,
                  "cool": 0,
                  "_deepnote_index_column": "2001 Honda Odyssey"
                },
                {
                  "hp": 1500,
                  "seats": 2,
                  "auto": 1,
                  "cool": "nan",
                  "_deepnote_index_column": "2017 Bugatti Veyron"
                }
              ],
              "rows_bottom": null
            },
            "text/plain": "                         hp  seats  auto  cool\n2008 Honda Civic      150.0    5.0   0.0   0.0\n2011 Dodge Charger    320.0    5.0   0.0   1.0\n1985 Chevy Blazer     383.0    3.0   1.0   1.0\n2001 Honda Odyssey    210.0    7.0   0.0   0.0\n2017 Bugatti Veyron  1500.0    2.0   1.0   NaN",
            "text/html": "<div>\n<style scoped>\n    .dataframe tbody tr th:only-of-type {\n        vertical-align: middle;\n    }\n\n    .dataframe tbody tr th {\n        vertical-align: top;\n    }\n\n    .dataframe thead th {\n        text-align: right;\n    }\n</style>\n<table border=\"1\" class=\"dataframe\">\n  <thead>\n    <tr style=\"text-align: right;\">\n      <th></th>\n      <th>hp</th>\n      <th>seats</th>\n      <th>auto</th>\n      <th>cool</th>\n    </tr>\n  </thead>\n  <tbody>\n    <tr>\n      <th>2008 Honda Civic</th>\n      <td>150.0</td>\n      <td>5.0</td>\n      <td>0.0</td>\n      <td>0.0</td>\n    </tr>\n    <tr>\n      <th>2011 Dodge Charger</th>\n      <td>320.0</td>\n      <td>5.0</td>\n      <td>0.0</td>\n      <td>1.0</td>\n    </tr>\n    <tr>\n      <th>1985 Chevy Blazer</th>\n      <td>383.0</td>\n      <td>3.0</td>\n      <td>1.0</td>\n      <td>1.0</td>\n    </tr>\n    <tr>\n      <th>2001 Honda Odyssey</th>\n      <td>210.0</td>\n      <td>7.0</td>\n      <td>0.0</td>\n      <td>0.0</td>\n    </tr>\n    <tr>\n      <th>2017 Bugatti Veyron</th>\n      <td>1500.0</td>\n      <td>2.0</td>\n      <td>1.0</td>\n      <td>NaN</td>\n    </tr>\n  </tbody>\n</table>\n</div>"
          },
          "metadata": {}
        }
      ],
      "execution_count": 2
    },
    {
      "cell_type": "markdown",
      "source": "### Normalizing Data and Calculating Distance",
      "metadata": {
        "id": "ezEwHH-x67cj",
        "colab_type": "text",
        "cell_id": "b5ad31546d8c4fbe8b3b41c6e7e79a18",
        "deepnote_cell_type": "markdown"
      }
    },
    {
      "cell_type": "markdown",
      "source": "To determine the class of our Bugatti using NNA, we need to measure its \"nearness\" to other cars. One of the simplest metrics for this is Euclidian distance, defined as the square root of the sum of the difference between each feature squared:\n\n![alt text](https://i.stack.imgur.com/2y0bx.png.)\n\nSome other approaches include Chi square distance and cosine distance. For further reading on distance functions, see this article: https://www.ncbi.nlm.nih.gov/pmc/articles/PMC4978658/.\n<br></br>\n\nNote that **by using Euclidian distance, we are normalizing the data in a way that assumes all features are equally important**. One consequence of this is that values that are generally larger (such as horsepower) will end up having a larger impact on the distance. Unless we have some reason to believe that the larger features are more important, we will want to balance features by **normalizing the data.**\n\n\nOne quick and easy way to normalize data is to divide each datum by the maximum value in its category. Let's do that for our data set:",
      "metadata": {
        "id": "5STDuS1DF0PA",
        "colab_type": "text",
        "cell_id": "83e7cf7c1ebf45a4915f7e7892fcdba1",
        "deepnote_cell_type": "markdown"
      }
    },
    {
      "cell_type": "code",
      "source": "# Normalizing the data by dividing each value by the maximum value in its row. \n# Remember that we don't normalize the label\n\ndata_norm_divide = data\n\nfor i in ['hp','seats','auto']:\n    data_norm_divide[i] = data[i]/max(data[i].values)\n    \ndata_norm_divide",
      "metadata": {
        "id": "aBhWCPsFMn-C",
        "colab": {
          "height": 206,
          "base_uri": "https://localhost:8080/"
        },
        "outputId": "1eccad32-88f6-4b41-d201-cb94e764dccc",
        "colab_type": "code",
        "source_hash": "526e6b3f",
        "execution_start": 1625523146214,
        "execution_millis": 41,
        "deepnote_to_be_reexecuted": false,
        "cell_id": "e224ebe07af64d55b4a4e0dc4e0c0f3e",
        "deepnote_cell_type": "code"
      },
      "outputs": [
        {
          "output_type": "execute_result",
          "execution_count": 3,
          "data": {
            "application/vnd.deepnote.dataframe.v2+json": {
              "row_count": 5,
              "column_count": 4,
              "columns": [
                {
                  "name": "hp",
                  "dtype": "float64",
                  "stats": {
                    "unique_count": 5,
                    "nan_count": 0,
                    "min": "0.1",
                    "max": "1.0",
                    "histogram": [
                      {
                        "bin_start": 0.1,
                        "bin_end": 0.19,
                        "count": 2
                      },
                      {
                        "bin_start": 0.19,
                        "bin_end": 0.28,
                        "count": 2
                      },
                      {
                        "bin_start": 0.28,
                        "bin_end": 0.37,
                        "count": 0
                      },
                      {
                        "bin_start": 0.37,
                        "bin_end": 0.45999999999999996,
                        "count": 0
                      },
                      {
                        "bin_start": 0.45999999999999996,
                        "bin_end": 0.5499999999999999,
                        "count": 0
                      },
                      {
                        "bin_start": 0.5499999999999999,
                        "bin_end": 0.64,
                        "count": 0
                      },
                      {
                        "bin_start": 0.64,
                        "bin_end": 0.73,
                        "count": 0
                      },
                      {
                        "bin_start": 0.73,
                        "bin_end": 0.82,
                        "count": 0
                      },
                      {
                        "bin_start": 0.82,
                        "bin_end": 0.9099999999999999,
                        "count": 0
                      },
                      {
                        "bin_start": 0.9099999999999999,
                        "bin_end": 1,
                        "count": 1
                      }
                    ]
                  }
                },
                {
                  "name": "seats",
                  "dtype": "float64",
                  "stats": {
                    "unique_count": 4,
                    "nan_count": 0,
                    "min": "0.2857142857142857",
                    "max": "1.0",
                    "histogram": [
                      {
                        "bin_start": 0.2857142857142857,
                        "bin_end": 0.3571428571428571,
                        "count": 1
                      },
                      {
                        "bin_start": 0.3571428571428571,
                        "bin_end": 0.42857142857142855,
                        "count": 0
                      },
                      {
                        "bin_start": 0.42857142857142855,
                        "bin_end": 0.5,
                        "count": 1
                      },
                      {
                        "bin_start": 0.5,
                        "bin_end": 0.5714285714285714,
                        "count": 0
                      },
                      {
                        "bin_start": 0.5714285714285714,
                        "bin_end": 0.6428571428571428,
                        "count": 0
                      },
                      {
                        "bin_start": 0.6428571428571428,
                        "bin_end": 0.7142857142857142,
                        "count": 0
                      },
                      {
                        "bin_start": 0.7142857142857142,
                        "bin_end": 0.7857142857142857,
                        "count": 2
                      },
                      {
                        "bin_start": 0.7857142857142857,
                        "bin_end": 0.8571428571428571,
                        "count": 0
                      },
                      {
                        "bin_start": 0.8571428571428571,
                        "bin_end": 0.9285714285714285,
                        "count": 0
                      },
                      {
                        "bin_start": 0.9285714285714285,
                        "bin_end": 1,
                        "count": 1
                      }
                    ]
                  }
                },
                {
                  "name": "auto",
                  "dtype": "float64",
                  "stats": {
                    "unique_count": 2,
                    "nan_count": 0,
                    "min": "0.0",
                    "max": "1.0",
                    "histogram": [
                      {
                        "bin_start": 0,
                        "bin_end": 0.1,
                        "count": 3
                      },
                      {
                        "bin_start": 0.1,
                        "bin_end": 0.2,
                        "count": 0
                      },
                      {
                        "bin_start": 0.2,
                        "bin_end": 0.30000000000000004,
                        "count": 0
                      },
                      {
                        "bin_start": 0.30000000000000004,
                        "bin_end": 0.4,
                        "count": 0
                      },
                      {
                        "bin_start": 0.4,
                        "bin_end": 0.5,
                        "count": 0
                      },
                      {
                        "bin_start": 0.5,
                        "bin_end": 0.6000000000000001,
                        "count": 0
                      },
                      {
                        "bin_start": 0.6000000000000001,
                        "bin_end": 0.7000000000000001,
                        "count": 0
                      },
                      {
                        "bin_start": 0.7000000000000001,
                        "bin_end": 0.8,
                        "count": 0
                      },
                      {
                        "bin_start": 0.8,
                        "bin_end": 0.9,
                        "count": 0
                      },
                      {
                        "bin_start": 0.9,
                        "bin_end": 1,
                        "count": 2
                      }
                    ]
                  }
                },
                {
                  "name": "cool",
                  "dtype": "float64",
                  "stats": {
                    "unique_count": 2,
                    "nan_count": 1,
                    "min": "0.0",
                    "max": "1.0",
                    "histogram": [
                      {
                        "bin_start": 0,
                        "bin_end": 0.1,
                        "count": 2
                      },
                      {
                        "bin_start": 0.1,
                        "bin_end": 0.2,
                        "count": 0
                      },
                      {
                        "bin_start": 0.2,
                        "bin_end": 0.30000000000000004,
                        "count": 0
                      },
                      {
                        "bin_start": 0.30000000000000004,
                        "bin_end": 0.4,
                        "count": 0
                      },
                      {
                        "bin_start": 0.4,
                        "bin_end": 0.5,
                        "count": 0
                      },
                      {
                        "bin_start": 0.5,
                        "bin_end": 0.6000000000000001,
                        "count": 0
                      },
                      {
                        "bin_start": 0.6000000000000001,
                        "bin_end": 0.7000000000000001,
                        "count": 0
                      },
                      {
                        "bin_start": 0.7000000000000001,
                        "bin_end": 0.8,
                        "count": 0
                      },
                      {
                        "bin_start": 0.8,
                        "bin_end": 0.9,
                        "count": 0
                      },
                      {
                        "bin_start": 0.9,
                        "bin_end": 1,
                        "count": 2
                      }
                    ]
                  }
                },
                {
                  "name": "_deepnote_index_column",
                  "dtype": "object"
                }
              ],
              "rows_top": [
                {
                  "hp": 0.1,
                  "seats": 0.7142857142857143,
                  "auto": 0,
                  "cool": 0,
                  "_deepnote_index_column": "2008 Honda Civic"
                },
                {
                  "hp": 0.21333333333333335,
                  "seats": 0.7142857142857143,
                  "auto": 0,
                  "cool": 1,
                  "_deepnote_index_column": "2011 Dodge Charger"
                },
                {
                  "hp": 0.25533333333333336,
                  "seats": 0.42857142857142855,
                  "auto": 1,
                  "cool": 1,
                  "_deepnote_index_column": "1985 Chevy Blazer"
                },
                {
                  "hp": 0.14,
                  "seats": 1,
                  "auto": 0,
                  "cool": 0,
                  "_deepnote_index_column": "2001 Honda Odyssey"
                },
                {
                  "hp": 1,
                  "seats": 0.2857142857142857,
                  "auto": 1,
                  "cool": "nan",
                  "_deepnote_index_column": "2017 Bugatti Veyron"
                }
              ],
              "rows_bottom": null
            },
            "text/plain": "                           hp     seats  auto  cool\n2008 Honda Civic     0.100000  0.714286   0.0   0.0\n2011 Dodge Charger   0.213333  0.714286   0.0   1.0\n1985 Chevy Blazer    0.255333  0.428571   1.0   1.0\n2001 Honda Odyssey   0.140000  1.000000   0.0   0.0\n2017 Bugatti Veyron  1.000000  0.285714   1.0   NaN",
            "text/html": "<div>\n<style scoped>\n    .dataframe tbody tr th:only-of-type {\n        vertical-align: middle;\n    }\n\n    .dataframe tbody tr th {\n        vertical-align: top;\n    }\n\n    .dataframe thead th {\n        text-align: right;\n    }\n</style>\n<table border=\"1\" class=\"dataframe\">\n  <thead>\n    <tr style=\"text-align: right;\">\n      <th></th>\n      <th>hp</th>\n      <th>seats</th>\n      <th>auto</th>\n      <th>cool</th>\n    </tr>\n  </thead>\n  <tbody>\n    <tr>\n      <th>2008 Honda Civic</th>\n      <td>0.100000</td>\n      <td>0.714286</td>\n      <td>0.0</td>\n      <td>0.0</td>\n    </tr>\n    <tr>\n      <th>2011 Dodge Charger</th>\n      <td>0.213333</td>\n      <td>0.714286</td>\n      <td>0.0</td>\n      <td>1.0</td>\n    </tr>\n    <tr>\n      <th>1985 Chevy Blazer</th>\n      <td>0.255333</td>\n      <td>0.428571</td>\n      <td>1.0</td>\n      <td>1.0</td>\n    </tr>\n    <tr>\n      <th>2001 Honda Odyssey</th>\n      <td>0.140000</td>\n      <td>1.000000</td>\n      <td>0.0</td>\n      <td>0.0</td>\n    </tr>\n    <tr>\n      <th>2017 Bugatti Veyron</th>\n      <td>1.000000</td>\n      <td>0.285714</td>\n      <td>1.0</td>\n      <td>NaN</td>\n    </tr>\n  </tbody>\n</table>\n</div>"
          },
          "metadata": {}
        }
      ],
      "execution_count": 3
    },
    {
      "cell_type": "markdown",
      "source": "As usual, a tool already exists to do this. Using sklearn, we can normalize data with an object called a StandardScaler. We will use this in the example below, but feel free to also read the documentation here: http://scikit-learn.org/stable/modules/generated/sklearn.preprocessing.StandardScaler.html.",
      "metadata": {
        "id": "JXcfmnfzy9u0",
        "colab_type": "text",
        "cell_id": "b13017e7fa944d9faed4e12c6af789e6",
        "deepnote_cell_type": "markdown"
      }
    },
    {
      "cell_type": "markdown",
      "source": "Normalization, or more generally \"standardization,\" is a common requirement for machine learning estimators. Beyond shifting values to similar magnitudes, many estimators will run into trouble if the values within individual features are not roughly normally distributed. By **normal distribution,** we mean a Gaussian distribution with 0 mean and unit variance. The sklearn StandardScaler will attempt to scale all the data to approximate a normal distribution for us.",
      "metadata": {
        "id": "f8WthQEW7RA3",
        "colab_type": "text",
        "cell_id": "63155bdcd64d44f3a1de17252b842bb9",
        "deepnote_cell_type": "markdown"
      }
    },
    {
      "cell_type": "code",
      "source": "# Normalize data by removing the mean and scaling to unit variance from each feature\n\nfrom sklearn.preprocessing import StandardScaler\nscaler = StandardScaler()\n\ndata_unitnorm = pd.DataFrame.from_dict(cars_dict,orient='index')\n\nfor i in ['hp','seats','auto']:\n    feature_data = data_unitnorm[i].values.reshape(-1, 1)\n    scaler.fit(feature_data)\n    data_unitnorm[i] = scaler.transform(feature_data)\n    \ndata_unitnorm",
      "metadata": {
        "id": "V6hK0zn1y9u2",
        "colab": {
          "height": 206,
          "base_uri": "https://localhost:8080/"
        },
        "outputId": "9907f9a1-3dba-411b-f014-1cade5571b6d",
        "colab_type": "code",
        "source_hash": "54de86f2",
        "execution_start": 1625523148299,
        "execution_millis": 958,
        "deepnote_to_be_reexecuted": false,
        "cell_id": "3aa198fb059c4a0b86f07ea468edf4f1",
        "deepnote_cell_type": "code"
      },
      "outputs": [
        {
          "output_type": "execute_result",
          "execution_count": 4,
          "data": {
            "application/vnd.deepnote.dataframe.v2+json": {
              "row_count": 5,
              "column_count": 4,
              "columns": [
                {
                  "name": "hp",
                  "dtype": "float64",
                  "stats": {
                    "unique_count": 5,
                    "nan_count": 0,
                    "min": "-0.724650864737854",
                    "max": "1.973304643800764",
                    "histogram": [
                      {
                        "bin_start": -0.724650864737854,
                        "bin_end": -0.45485531388399225,
                        "count": 2
                      },
                      {
                        "bin_start": -0.45485531388399225,
                        "bin_end": -0.1850597630301305,
                        "count": 2
                      },
                      {
                        "bin_start": -0.1850597630301305,
                        "bin_end": 0.08473578782373126,
                        "count": 0
                      },
                      {
                        "bin_start": 0.08473578782373126,
                        "bin_end": 0.354531338677593,
                        "count": 0
                      },
                      {
                        "bin_start": 0.354531338677593,
                        "bin_end": 0.6243268895314549,
                        "count": 0
                      },
                      {
                        "bin_start": 0.6243268895314549,
                        "bin_end": 0.8941224403853165,
                        "count": 0
                      },
                      {
                        "bin_start": 0.8941224403853165,
                        "bin_end": 1.1639179912391782,
                        "count": 0
                      },
                      {
                        "bin_start": 1.1639179912391782,
                        "bin_end": 1.43371354209304,
                        "count": 0
                      },
                      {
                        "bin_start": 1.43371354209304,
                        "bin_end": 1.703509092946902,
                        "count": 0
                      },
                      {
                        "bin_start": 1.703509092946902,
                        "bin_end": 1.973304643800764,
                        "count": 1
                      }
                    ]
                  }
                },
                {
                  "name": "seats",
                  "dtype": "float64",
                  "stats": {
                    "unique_count": 4,
                    "nan_count": 0,
                    "min": "-1.3764944032233708",
                    "max": "1.4912022701586514",
                    "histogram": [
                      {
                        "bin_start": -1.3764944032233708,
                        "bin_end": -1.0897247358851687,
                        "count": 1
                      },
                      {
                        "bin_start": -1.0897247358851687,
                        "bin_end": -0.8029550685469664,
                        "count": 0
                      },
                      {
                        "bin_start": -0.8029550685469664,
                        "bin_end": -0.5161854012087642,
                        "count": 1
                      },
                      {
                        "bin_start": -0.5161854012087642,
                        "bin_end": -0.22941573387056202,
                        "count": 0
                      },
                      {
                        "bin_start": -0.22941573387056202,
                        "bin_end": 0.05735393346764006,
                        "count": 0
                      },
                      {
                        "bin_start": 0.05735393346764006,
                        "bin_end": 0.34412360080584237,
                        "count": 0
                      },
                      {
                        "bin_start": 0.34412360080584237,
                        "bin_end": 0.6308932681440447,
                        "count": 2
                      },
                      {
                        "bin_start": 0.6308932681440447,
                        "bin_end": 0.9176629354822468,
                        "count": 0
                      },
                      {
                        "bin_start": 0.9176629354822468,
                        "bin_end": 1.2044326028204488,
                        "count": 0
                      },
                      {
                        "bin_start": 1.2044326028204488,
                        "bin_end": 1.4912022701586514,
                        "count": 1
                      }
                    ]
                  }
                },
                {
                  "name": "auto",
                  "dtype": "float64",
                  "stats": {
                    "unique_count": 2,
                    "nan_count": 0,
                    "min": "-0.816496580927726",
                    "max": "1.224744871391589",
                    "histogram": [
                      {
                        "bin_start": -0.816496580927726,
                        "bin_end": -0.6123724356957946,
                        "count": 3
                      },
                      {
                        "bin_start": -0.6123724356957946,
                        "bin_end": -0.4082482904638631,
                        "count": 0
                      },
                      {
                        "bin_start": -0.4082482904638631,
                        "bin_end": -0.20412414523193156,
                        "count": 0
                      },
                      {
                        "bin_start": -0.20412414523193156,
                        "bin_end": -1.1102230246251565e-16,
                        "count": 0
                      },
                      {
                        "bin_start": -1.1102230246251565e-16,
                        "bin_end": 0.20412414523193134,
                        "count": 0
                      },
                      {
                        "bin_start": 0.20412414523193134,
                        "bin_end": 0.4082482904638629,
                        "count": 0
                      },
                      {
                        "bin_start": 0.4082482904638629,
                        "bin_end": 0.6123724356957942,
                        "count": 0
                      },
                      {
                        "bin_start": 0.6123724356957942,
                        "bin_end": 0.8164965809277258,
                        "count": 0
                      },
                      {
                        "bin_start": 0.8164965809277258,
                        "bin_end": 1.0206207261596574,
                        "count": 0
                      },
                      {
                        "bin_start": 1.0206207261596574,
                        "bin_end": 1.224744871391589,
                        "count": 2
                      }
                    ]
                  }
                },
                {
                  "name": "cool",
                  "dtype": "float64",
                  "stats": {
                    "unique_count": 2,
                    "nan_count": 1,
                    "min": "0.0",
                    "max": "1.0",
                    "histogram": [
                      {
                        "bin_start": 0,
                        "bin_end": 0.1,
                        "count": 2
                      },
                      {
                        "bin_start": 0.1,
                        "bin_end": 0.2,
                        "count": 0
                      },
                      {
                        "bin_start": 0.2,
                        "bin_end": 0.30000000000000004,
                        "count": 0
                      },
                      {
                        "bin_start": 0.30000000000000004,
                        "bin_end": 0.4,
                        "count": 0
                      },
                      {
                        "bin_start": 0.4,
                        "bin_end": 0.5,
                        "count": 0
                      },
                      {
                        "bin_start": 0.5,
                        "bin_end": 0.6000000000000001,
                        "count": 0
                      },
                      {
                        "bin_start": 0.6000000000000001,
                        "bin_end": 0.7000000000000001,
                        "count": 0
                      },
                      {
                        "bin_start": 0.7000000000000001,
                        "bin_end": 0.8,
                        "count": 0
                      },
                      {
                        "bin_start": 0.8,
                        "bin_end": 0.9,
                        "count": 0
                      },
                      {
                        "bin_start": 0.9,
                        "bin_end": 1,
                        "count": 2
                      }
                    ]
                  }
                },
                {
                  "name": "_deepnote_index_column",
                  "dtype": "object"
                }
              ],
              "rows_top": [
                {
                  "hp": -0.724650864737854,
                  "seats": 0.3441236008058425,
                  "auto": -0.816496580927726,
                  "cool": 0,
                  "_deepnote_index_column": "2008 Honda Civic"
                },
                {
                  "hp": -0.3849083192181762,
                  "seats": 0.3441236008058425,
                  "auto": -0.816496580927726,
                  "cool": 1,
                  "_deepnote_index_column": "2011 Dodge Charger"
                },
                {
                  "hp": -0.2590037288197074,
                  "seats": -0.8029550685469664,
                  "auto": 1.224744871391589,
                  "cool": 1,
                  "_deepnote_index_column": "1985 Chevy Blazer"
                },
                {
                  "hp": -0.6047417310250266,
                  "seats": 1.4912022701586514,
                  "auto": -0.816496580927726,
                  "cool": 0,
                  "_deepnote_index_column": "2001 Honda Odyssey"
                },
                {
                  "hp": 1.973304643800764,
                  "seats": -1.3764944032233708,
                  "auto": 1.224744871391589,
                  "cool": "nan",
                  "_deepnote_index_column": "2017 Bugatti Veyron"
                }
              ],
              "rows_bottom": null
            },
            "text/plain": "                           hp     seats      auto  cool\n2008 Honda Civic    -0.724651  0.344124 -0.816497   0.0\n2011 Dodge Charger  -0.384908  0.344124 -0.816497   1.0\n1985 Chevy Blazer   -0.259004 -0.802955  1.224745   1.0\n2001 Honda Odyssey  -0.604742  1.491202 -0.816497   0.0\n2017 Bugatti Veyron  1.973305 -1.376494  1.224745   NaN",
            "text/html": "<div>\n<style scoped>\n    .dataframe tbody tr th:only-of-type {\n        vertical-align: middle;\n    }\n\n    .dataframe tbody tr th {\n        vertical-align: top;\n    }\n\n    .dataframe thead th {\n        text-align: right;\n    }\n</style>\n<table border=\"1\" class=\"dataframe\">\n  <thead>\n    <tr style=\"text-align: right;\">\n      <th></th>\n      <th>hp</th>\n      <th>seats</th>\n      <th>auto</th>\n      <th>cool</th>\n    </tr>\n  </thead>\n  <tbody>\n    <tr>\n      <th>2008 Honda Civic</th>\n      <td>-0.724651</td>\n      <td>0.344124</td>\n      <td>-0.816497</td>\n      <td>0.0</td>\n    </tr>\n    <tr>\n      <th>2011 Dodge Charger</th>\n      <td>-0.384908</td>\n      <td>0.344124</td>\n      <td>-0.816497</td>\n      <td>1.0</td>\n    </tr>\n    <tr>\n      <th>1985 Chevy Blazer</th>\n      <td>-0.259004</td>\n      <td>-0.802955</td>\n      <td>1.224745</td>\n      <td>1.0</td>\n    </tr>\n    <tr>\n      <th>2001 Honda Odyssey</th>\n      <td>-0.604742</td>\n      <td>1.491202</td>\n      <td>-0.816497</td>\n      <td>0.0</td>\n    </tr>\n    <tr>\n      <th>2017 Bugatti Veyron</th>\n      <td>1.973305</td>\n      <td>-1.376494</td>\n      <td>1.224745</td>\n      <td>NaN</td>\n    </tr>\n  </tbody>\n</table>\n</div>"
          },
          "metadata": {}
        }
      ],
      "execution_count": 4
    },
    {
      "cell_type": "markdown",
      "source": "Now that the data is standardized, we can begin building our NNA algorithm. First, we will need a function that **calculates the Euclidean distance between two data points**. For our purposes, we will assume the data points will be stored in arrays of the same length.",
      "metadata": {
        "id": "C6dLhGxay9u7",
        "colab_type": "text",
        "cell_id": "3e372ee7e0ca46ac825c2e68609b6748",
        "deepnote_cell_type": "markdown"
      }
    },
    {
      "cell_type": "code",
      "source": "# Distance function using formula for euclidean distance\n\ndef euclidean_dist(datum1, datum2):\n    inner_val = 0.0\n    \n    for g in range(datum1.shape[0]):\n        inner_val += (datum1[g]- datum2[g]) ** 2\n    \n    distance = math.sqrt(inner_val)\n    return(distance)",
      "metadata": {
        "id": "2rayoFQnOyvY",
        "colab": {},
        "colab_type": "code",
        "source_hash": "2437a30",
        "execution_start": 1625523150409,
        "execution_millis": 4,
        "deepnote_to_be_reexecuted": false,
        "cell_id": "13d187b15e6e4a2a964fb746d56b6ce3",
        "deepnote_cell_type": "code"
      },
      "outputs": [],
      "execution_count": 5
    },
    {
      "cell_type": "markdown",
      "source": "Next, we calculate the distance between our Bugatti and each other car using the *euclidean_dist* function. For the sake of testing, we do this twice: once for the normalized data (*data_norm_divide*), and once for the data standardized by sklearn (*data_unitnorm*). Note that we will not input the classification column of cool/uncool to our distance function, which means taking a subset of each array.",
      "metadata": {
        "id": "6IaktG5_mUNf",
        "colab_type": "text",
        "cell_id": "3e403e33257a42f19caf16f0f640f18b",
        "deepnote_cell_type": "markdown"
      }
    },
    {
      "cell_type": "code",
      "source": "# FYI: This is how you can call a specific row by name and sub-select features\nbugatti = data.loc[\"2017 Bugatti Veyron\"][[\"hp\",\"seats\",\"auto\"]].values\n\nimport math\n\n# Normalized data by dividing\nprint('Euclidean Distances to 2017 Bugatti Veyron (V1)')\nfor car in range(len(data_norm_divide)):\n    d = euclidean_dist(data_norm_divide.iloc[4,:3].values, \n                       data_norm_divide.iloc[car, :3].values)\n    print('  {}: \\t{:01.3f}'.format(car,d))\n\n# Standardized data\nprint('\\nEuclidean Distances to 2017 Bugatti Veyron (V2)')\nfor car in range(len(data_unitnorm)):\n    d = euclidean_dist(data_unitnorm.iloc[4,:3].values, \n                       data_unitnorm.iloc[car, :3].values)\n    print('  {}: \\t{:01.3f}'.format(car,d))",
      "metadata": {
        "id": "rY0Wuzz9LZzu",
        "colab": {
          "height": 260,
          "base_uri": "https://localhost:8080/"
        },
        "outputId": "372ac8ee-81b8-42a1-b6e4-aed03bcec62d",
        "colab_type": "code",
        "source_hash": "ff3f5248",
        "execution_start": 1625523152208,
        "execution_millis": 15,
        "deepnote_to_be_reexecuted": false,
        "cell_id": "763f656a835541c1bd16212f7f9bdc7b",
        "deepnote_cell_type": "code"
      },
      "outputs": [],
      "execution_count": 6
    },
    {
      "cell_type": "markdown",
      "source": "For the normalized data (with each feature divided by its maximum value), we get the following distances:\n\n&nbsp;&nbsp;&nbsp;&nbsp;&nbsp;Bugatti - Blazer = 0.758\n\n&nbsp;&nbsp;&nbsp;&nbsp;&nbsp;Bugatti - Odyssey = 1.500\n\n&nbsp;&nbsp;&nbsp;&nbsp;&nbsp;Bugatti - Civic = 1.412\n\n&nbsp;&nbsp;&nbsp;&nbsp;&nbsp;Bugatti - Charger = 1.343\n\nFor the standardized data (using sklearn's StandardScaler), we get the following distances:\n\n&nbsp;&nbsp;&nbsp;&nbsp;&nbsp;Bugatti - Blazer = 2.305\n\n&nbsp;&nbsp;&nbsp;&nbsp;&nbsp;Bugatti - Odyssey = 4.363\n\n&nbsp;&nbsp;&nbsp;&nbsp;&nbsp;Bugatti - Civic = 3.796\n\n&nbsp;&nbsp;&nbsp;&nbsp;&nbsp;Bugatti - Charger = 3.562",
      "metadata": {
        "id": "rHRn4t68nIbB",
        "colab_type": "text",
        "cell_id": "a6fe1d2ec1214973b344ccb79bbf5e41",
        "deepnote_cell_type": "markdown"
      }
    },
    {
      "cell_type": "markdown",
      "source": "Notice that both techniques yielded the same order of cars from nearest to farthest.\n>This is coincidental, and unlikely to happen with larger or more varied data sets.\n\nSince the distance between the Bugatti and Blazer is the smallest, if $k = 1$, we would classify the Bugatti as cool. However, if $k = 4$ there would no longer be a majority, and we would not be able to classify the Bugatti in either category without a tiebreaker protocol.\n\nGenerally speaking, *larger values of $k$ reduce noise, but also make the boundaries between classes less distinct*. The best value of $k$ will vary by data set.",
      "metadata": {
        "id": "oYfAZW3B7rH-",
        "colab_type": "text",
        "cell_id": "d5b6d7ead9104a1a8ba9e1a980bdf9e0",
        "deepnote_cell_type": "markdown"
      }
    },
    {
      "cell_type": "markdown",
      "source": "# Example kNN ",
      "metadata": {
        "id": "Vo5iwH6soijh",
        "colab_type": "text",
        "cell_id": "95997337375d4ccfbd31ab17c8850c0b",
        "deepnote_cell_type": "markdown"
      }
    },
    {
      "cell_type": "markdown",
      "source": "Next we will see if we can use k-NNA on the Pima diabetes dataset.",
      "metadata": {
        "id": "aF6byhXC7xg0",
        "colab_type": "text",
        "cell_id": "ce688c8c3fb441e386a86423aba733e3",
        "deepnote_cell_type": "markdown"
      }
    },
    {
      "cell_type": "markdown",
      "source": "## Loading Data",
      "metadata": {
        "id": "5jvkEafL70ug",
        "colab_type": "text",
        "cell_id": "99beb99fbfae421086dffffcb37f7bf2",
        "deepnote_cell_type": "markdown"
      }
    },
    {
      "cell_type": "code",
      "source": "url = \"https://raw.githubusercontent.com/BeaverWorksMedlytics2020/Data_Public/master/NotebookExampleData/Week1/diabetes.csv\"\nnames = ['preg', 'plas', 'pres', 'skin', 'test', 'mass', 'pedi', 'age', 'class']\ndata = pd.read_csv(url, names=names)\n\n# Dropping NaN rows\ninvalid = ['plas', 'pres', 'skin', 'test', 'mass']\n\nfor i in invalid:\n    data[i].replace(to_replace=0, value=np.nan, inplace=True)\n    \ndata = data.dropna(axis=0).reset_index(drop=True)\n\ndata.head()",
      "metadata": {
        "id": "hQAjk52WQ1da",
        "colab": {
          "height": 206,
          "base_uri": "https://localhost:8080/"
        },
        "outputId": "40700207-75b6-40e6-a60c-1d5533796ca0",
        "colab_type": "code",
        "source_hash": "298bd88",
        "execution_start": 1625523154517,
        "execution_millis": 98,
        "deepnote_to_be_reexecuted": false,
        "cell_id": "d78184db75c145d38b23aa692d2a7698",
        "deepnote_cell_type": "code"
      },
      "outputs": [
        {
          "output_type": "execute_result",
          "execution_count": 7,
          "data": {
            "application/vnd.deepnote.dataframe.v2+json": {
              "row_count": 5,
              "column_count": 9,
              "columns": [
                {
                  "name": "preg",
                  "dtype": "int64",
                  "stats": {
                    "unique_count": 4,
                    "nan_count": 0,
                    "min": "0",
                    "max": "3",
                    "histogram": [
                      {
                        "bin_start": 0,
                        "bin_end": 0.3,
                        "count": 1
                      },
                      {
                        "bin_start": 0.3,
                        "bin_end": 0.6,
                        "count": 0
                      },
                      {
                        "bin_start": 0.6,
                        "bin_end": 0.8999999999999999,
                        "count": 0
                      },
                      {
                        "bin_start": 0.8999999999999999,
                        "bin_end": 1.2,
                        "count": 2
                      },
                      {
                        "bin_start": 1.2,
                        "bin_end": 1.5,
                        "count": 0
                      },
                      {
                        "bin_start": 1.5,
                        "bin_end": 1.7999999999999998,
                        "count": 0
                      },
                      {
                        "bin_start": 1.7999999999999998,
                        "bin_end": 2.1,
                        "count": 1
                      },
                      {
                        "bin_start": 2.1,
                        "bin_end": 2.4,
                        "count": 0
                      },
                      {
                        "bin_start": 2.4,
                        "bin_end": 2.6999999999999997,
                        "count": 0
                      },
                      {
                        "bin_start": 2.6999999999999997,
                        "bin_end": 3,
                        "count": 1
                      }
                    ]
                  }
                },
                {
                  "name": "plas",
                  "dtype": "float64",
                  "stats": {
                    "unique_count": 5,
                    "nan_count": 0,
                    "min": "78.0",
                    "max": "197.0",
                    "histogram": [
                      {
                        "bin_start": 78,
                        "bin_end": 89.9,
                        "count": 2
                      },
                      {
                        "bin_start": 89.9,
                        "bin_end": 101.8,
                        "count": 0
                      },
                      {
                        "bin_start": 101.8,
                        "bin_end": 113.7,
                        "count": 0
                      },
                      {
                        "bin_start": 113.7,
                        "bin_end": 125.6,
                        "count": 0
                      },
                      {
                        "bin_start": 125.6,
                        "bin_end": 137.5,
                        "count": 1
                      },
                      {
                        "bin_start": 137.5,
                        "bin_end": 149.4,
                        "count": 0
                      },
                      {
                        "bin_start": 149.4,
                        "bin_end": 161.3,
                        "count": 0
                      },
                      {
                        "bin_start": 161.3,
                        "bin_end": 173.2,
                        "count": 0
                      },
                      {
                        "bin_start": 173.2,
                        "bin_end": 185.10000000000002,
                        "count": 0
                      },
                      {
                        "bin_start": 185.10000000000002,
                        "bin_end": 197,
                        "count": 2
                      }
                    ]
                  }
                },
                {
                  "name": "pres",
                  "dtype": "float64",
                  "stats": {
                    "unique_count": 5,
                    "nan_count": 0,
                    "min": "40.0",
                    "max": "70.0",
                    "histogram": [
                      {
                        "bin_start": 40,
                        "bin_end": 43,
                        "count": 1
                      },
                      {
                        "bin_start": 43,
                        "bin_end": 46,
                        "count": 0
                      },
                      {
                        "bin_start": 46,
                        "bin_end": 49,
                        "count": 0
                      },
                      {
                        "bin_start": 49,
                        "bin_end": 52,
                        "count": 1
                      },
                      {
                        "bin_start": 52,
                        "bin_end": 55,
                        "count": 0
                      },
                      {
                        "bin_start": 55,
                        "bin_end": 58,
                        "count": 0
                      },
                      {
                        "bin_start": 58,
                        "bin_end": 61,
                        "count": 1
                      },
                      {
                        "bin_start": 61,
                        "bin_end": 64,
                        "count": 0
                      },
                      {
                        "bin_start": 64,
                        "bin_end": 67,
                        "count": 1
                      },
                      {
                        "bin_start": 67,
                        "bin_end": 70,
                        "count": 1
                      }
                    ]
                  }
                },
                {
                  "name": "skin",
                  "dtype": "float64",
                  "stats": {
                    "unique_count": 4,
                    "nan_count": 0,
                    "min": "23.0",
                    "max": "45.0",
                    "histogram": [
                      {
                        "bin_start": 23,
                        "bin_end": 25.2,
                        "count": 2
                      },
                      {
                        "bin_start": 25.2,
                        "bin_end": 27.4,
                        "count": 0
                      },
                      {
                        "bin_start": 27.4,
                        "bin_end": 29.6,
                        "count": 0
                      },
                      {
                        "bin_start": 29.6,
                        "bin_end": 31.8,
                        "count": 0
                      },
                      {
                        "bin_start": 31.8,
                        "bin_end": 34,
                        "count": 1
                      },
                      {
                        "bin_start": 34,
                        "bin_end": 36.2,
                        "count": 1
                      },
                      {
                        "bin_start": 36.2,
                        "bin_end": 38.400000000000006,
                        "count": 0
                      },
                      {
                        "bin_start": 38.400000000000006,
                        "bin_end": 40.6,
                        "count": 0
                      },
                      {
                        "bin_start": 40.6,
                        "bin_end": 42.8,
                        "count": 0
                      },
                      {
                        "bin_start": 42.8,
                        "bin_end": 45,
                        "count": 1
                      }
                    ]
                  }
                },
                {
                  "name": "test",
                  "dtype": "float64",
                  "stats": {
                    "unique_count": 5,
                    "nan_count": 0,
                    "min": "88.0",
                    "max": "846.0",
                    "histogram": [
                      {
                        "bin_start": 88,
                        "bin_end": 163.8,
                        "count": 2
                      },
                      {
                        "bin_start": 163.8,
                        "bin_end": 239.6,
                        "count": 1
                      },
                      {
                        "bin_start": 239.6,
                        "bin_end": 315.4,
                        "count": 0
                      },
                      {
                        "bin_start": 315.4,
                        "bin_end": 391.2,
                        "count": 0
                      },
                      {
                        "bin_start": 391.2,
                        "bin_end": 467,
                        "count": 0
                      },
                      {
                        "bin_start": 467,
                        "bin_end": 542.8,
                        "count": 0
                      },
                      {
                        "bin_start": 542.8,
                        "bin_end": 618.6,
                        "count": 1
                      },
                      {
                        "bin_start": 618.6,
                        "bin_end": 694.4,
                        "count": 0
                      },
                      {
                        "bin_start": 694.4,
                        "bin_end": 770.1999999999999,
                        "count": 0
                      },
                      {
                        "bin_start": 770.1999999999999,
                        "bin_end": 846,
                        "count": 1
                      }
                    ]
                  }
                },
                {
                  "name": "mass",
                  "dtype": "float64",
                  "stats": {
                    "unique_count": 5,
                    "nan_count": 0,
                    "min": "28.1",
                    "max": "43.1",
                    "histogram": [
                      {
                        "bin_start": 28.1,
                        "bin_end": 29.6,
                        "count": 1
                      },
                      {
                        "bin_start": 29.6,
                        "bin_end": 31.1,
                        "count": 3
                      },
                      {
                        "bin_start": 31.1,
                        "bin_end": 32.6,
                        "count": 0
                      },
                      {
                        "bin_start": 32.6,
                        "bin_end": 34.1,
                        "count": 0
                      },
                      {
                        "bin_start": 34.1,
                        "bin_end": 35.6,
                        "count": 0
                      },
                      {
                        "bin_start": 35.6,
                        "bin_end": 37.1,
                        "count": 0
                      },
                      {
                        "bin_start": 37.1,
                        "bin_end": 38.6,
                        "count": 0
                      },
                      {
                        "bin_start": 38.6,
                        "bin_end": 40.1,
                        "count": 0
                      },
                      {
                        "bin_start": 40.1,
                        "bin_end": 41.6,
                        "count": 0
                      },
                      {
                        "bin_start": 41.6,
                        "bin_end": 43.1,
                        "count": 1
                      }
                    ]
                  }
                },
                {
                  "name": "pedi",
                  "dtype": "float64",
                  "stats": {
                    "unique_count": 5,
                    "nan_count": 0,
                    "min": "0.158",
                    "max": "2.288",
                    "histogram": [
                      {
                        "bin_start": 0.158,
                        "bin_end": 0.371,
                        "count": 3
                      },
                      {
                        "bin_start": 0.371,
                        "bin_end": 0.584,
                        "count": 1
                      },
                      {
                        "bin_start": 0.584,
                        "bin_end": 0.797,
                        "count": 0
                      },
                      {
                        "bin_start": 0.797,
                        "bin_end": 1.01,
                        "count": 0
                      },
                      {
                        "bin_start": 1.01,
                        "bin_end": 1.2229999999999999,
                        "count": 0
                      },
                      {
                        "bin_start": 1.2229999999999999,
                        "bin_end": 1.436,
                        "count": 0
                      },
                      {
                        "bin_start": 1.436,
                        "bin_end": 1.6489999999999998,
                        "count": 0
                      },
                      {
                        "bin_start": 1.6489999999999998,
                        "bin_end": 1.8619999999999999,
                        "count": 0
                      },
                      {
                        "bin_start": 1.8619999999999999,
                        "bin_end": 2.075,
                        "count": 0
                      },
                      {
                        "bin_start": 2.075,
                        "bin_end": 2.288,
                        "count": 1
                      }
                    ]
                  }
                },
                {
                  "name": "age",
                  "dtype": "int64",
                  "stats": {
                    "unique_count": 5,
                    "nan_count": 0,
                    "min": "21",
                    "max": "59",
                    "histogram": [
                      {
                        "bin_start": 21,
                        "bin_end": 24.8,
                        "count": 1
                      },
                      {
                        "bin_start": 24.8,
                        "bin_end": 28.6,
                        "count": 1
                      },
                      {
                        "bin_start": 28.6,
                        "bin_end": 32.4,
                        "count": 0
                      },
                      {
                        "bin_start": 32.4,
                        "bin_end": 36.2,
                        "count": 1
                      },
                      {
                        "bin_start": 36.2,
                        "bin_end": 40,
                        "count": 0
                      },
                      {
                        "bin_start": 40,
                        "bin_end": 43.8,
                        "count": 0
                      },
                      {
                        "bin_start": 43.8,
                        "bin_end": 47.599999999999994,
                        "count": 0
                      },
                      {
                        "bin_start": 47.599999999999994,
                        "bin_end": 51.4,
                        "count": 0
                      },
                      {
                        "bin_start": 51.4,
                        "bin_end": 55.199999999999996,
                        "count": 1
                      },
                      {
                        "bin_start": 55.199999999999996,
                        "bin_end": 59,
                        "count": 1
                      }
                    ]
                  }
                },
                {
                  "name": "class",
                  "dtype": "int64",
                  "stats": {
                    "unique_count": 2,
                    "nan_count": 0,
                    "min": "0",
                    "max": "1",
                    "histogram": [
                      {
                        "bin_start": 0,
                        "bin_end": 0.1,
                        "count": 1
                      },
                      {
                        "bin_start": 0.1,
                        "bin_end": 0.2,
                        "count": 0
                      },
                      {
                        "bin_start": 0.2,
                        "bin_end": 0.30000000000000004,
                        "count": 0
                      },
                      {
                        "bin_start": 0.30000000000000004,
                        "bin_end": 0.4,
                        "count": 0
                      },
                      {
                        "bin_start": 0.4,
                        "bin_end": 0.5,
                        "count": 0
                      },
                      {
                        "bin_start": 0.5,
                        "bin_end": 0.6000000000000001,
                        "count": 0
                      },
                      {
                        "bin_start": 0.6000000000000001,
                        "bin_end": 0.7000000000000001,
                        "count": 0
                      },
                      {
                        "bin_start": 0.7000000000000001,
                        "bin_end": 0.8,
                        "count": 0
                      },
                      {
                        "bin_start": 0.8,
                        "bin_end": 0.9,
                        "count": 0
                      },
                      {
                        "bin_start": 0.9,
                        "bin_end": 1,
                        "count": 4
                      }
                    ]
                  }
                },
                {
                  "name": "_deepnote_index_column",
                  "dtype": "int64"
                }
              ],
              "rows_top": [
                {
                  "preg": 1,
                  "plas": 89,
                  "pres": 66,
                  "skin": 23,
                  "test": 94,
                  "mass": 28.1,
                  "pedi": 0.167,
                  "age": 21,
                  "class": 0,
                  "_deepnote_index_column": 0
                },
                {
                  "preg": 0,
                  "plas": 137,
                  "pres": 40,
                  "skin": 35,
                  "test": 168,
                  "mass": 43.1,
                  "pedi": 2.288,
                  "age": 33,
                  "class": 1,
                  "_deepnote_index_column": 1
                },
                {
                  "preg": 3,
                  "plas": 78,
                  "pres": 50,
                  "skin": 32,
                  "test": 88,
                  "mass": 31,
                  "pedi": 0.248,
                  "age": 26,
                  "class": 1,
                  "_deepnote_index_column": 2
                },
                {
                  "preg": 2,
                  "plas": 197,
                  "pres": 70,
                  "skin": 45,
                  "test": 543,
                  "mass": 30.5,
                  "pedi": 0.158,
                  "age": 53,
                  "class": 1,
                  "_deepnote_index_column": 3
                },
                {
                  "preg": 1,
                  "plas": 189,
                  "pres": 60,
                  "skin": 23,
                  "test": 846,
                  "mass": 30.1,
                  "pedi": 0.398,
                  "age": 59,
                  "class": 1,
                  "_deepnote_index_column": 4
                }
              ],
              "rows_bottom": null
            },
            "text/plain": "   preg   plas  pres  skin   test  mass   pedi  age  class\n0     1   89.0  66.0  23.0   94.0  28.1  0.167   21      0\n1     0  137.0  40.0  35.0  168.0  43.1  2.288   33      1\n2     3   78.0  50.0  32.0   88.0  31.0  0.248   26      1\n3     2  197.0  70.0  45.0  543.0  30.5  0.158   53      1\n4     1  189.0  60.0  23.0  846.0  30.1  0.398   59      1",
            "text/html": "<div>\n<style scoped>\n    .dataframe tbody tr th:only-of-type {\n        vertical-align: middle;\n    }\n\n    .dataframe tbody tr th {\n        vertical-align: top;\n    }\n\n    .dataframe thead th {\n        text-align: right;\n    }\n</style>\n<table border=\"1\" class=\"dataframe\">\n  <thead>\n    <tr style=\"text-align: right;\">\n      <th></th>\n      <th>preg</th>\n      <th>plas</th>\n      <th>pres</th>\n      <th>skin</th>\n      <th>test</th>\n      <th>mass</th>\n      <th>pedi</th>\n      <th>age</th>\n      <th>class</th>\n    </tr>\n  </thead>\n  <tbody>\n    <tr>\n      <th>0</th>\n      <td>1</td>\n      <td>89.0</td>\n      <td>66.0</td>\n      <td>23.0</td>\n      <td>94.0</td>\n      <td>28.1</td>\n      <td>0.167</td>\n      <td>21</td>\n      <td>0</td>\n    </tr>\n    <tr>\n      <th>1</th>\n      <td>0</td>\n      <td>137.0</td>\n      <td>40.0</td>\n      <td>35.0</td>\n      <td>168.0</td>\n      <td>43.1</td>\n      <td>2.288</td>\n      <td>33</td>\n      <td>1</td>\n    </tr>\n    <tr>\n      <th>2</th>\n      <td>3</td>\n      <td>78.0</td>\n      <td>50.0</td>\n      <td>32.0</td>\n      <td>88.0</td>\n      <td>31.0</td>\n      <td>0.248</td>\n      <td>26</td>\n      <td>1</td>\n    </tr>\n    <tr>\n      <th>3</th>\n      <td>2</td>\n      <td>197.0</td>\n      <td>70.0</td>\n      <td>45.0</td>\n      <td>543.0</td>\n      <td>30.5</td>\n      <td>0.158</td>\n      <td>53</td>\n      <td>1</td>\n    </tr>\n    <tr>\n      <th>4</th>\n      <td>1</td>\n      <td>189.0</td>\n      <td>60.0</td>\n      <td>23.0</td>\n      <td>846.0</td>\n      <td>30.1</td>\n      <td>0.398</td>\n      <td>59</td>\n      <td>1</td>\n    </tr>\n  </tbody>\n</table>\n</div>"
          },
          "metadata": {}
        }
      ],
      "execution_count": 7
    },
    {
      "cell_type": "markdown",
      "source": "## Splitting data into Training, Validation, and Testing",
      "metadata": {
        "id": "lO_knzAAe93n",
        "colab_type": "text",
        "cell_id": "5fe6469a06fa46f3a12279cb8d143b6d",
        "deepnote_cell_type": "markdown"
      }
    },
    {
      "cell_type": "code",
      "source": "from sklearn.model_selection import train_test_split\n\n# Columns we will use to make predictions with (features!) feel free to play around with these\nX_cols = ['preg', 'plas', 'pres', 'skin', 'test', 'mass', 'pedi', 'age']\n\n# Column that we want to predict (the labels)\ny_col = 'class'\n\n# 80-20 train-test split of datset\ntest_size = 0.2\nX_train, X_test, y_train, y_test = train_test_split(data[X_cols], data[y_col], test_size=test_size, random_state=0)\n\n# Further split X and y of training into training and validation sets\nX_train, X_val, y_train, y_val = train_test_split(X_train, y_train, test_size=test_size, random_state=0)",
      "metadata": {
        "id": "b8pRTCC3PatJ",
        "colab": {},
        "colab_type": "code",
        "source_hash": "a9d54271",
        "execution_start": 1625523156732,
        "execution_millis": 42,
        "deepnote_to_be_reexecuted": false,
        "cell_id": "731c046007ea45d7b88f88e0fe2406a2",
        "deepnote_cell_type": "code"
      },
      "outputs": [],
      "execution_count": 8
    },
    {
      "cell_type": "markdown",
      "source": "## Normalizing Data",
      "metadata": {
        "id": "qrnVJ8Ovy9vT",
        "colab_type": "text",
        "cell_id": "c2e8166073c14d8f82201e3b732fb4e4",
        "deepnote_cell_type": "markdown"
      }
    },
    {
      "cell_type": "code",
      "source": "scaler = StandardScaler()\n\nfor i in list(X_train):\n    feature_data_train = X_train[i].values.reshape(-1, 1)\n    scaler.fit(feature_data_train)\n    X_train[i] = scaler.transform(feature_data_train)\n\nfor j in list(X_test):\n    feature_data_test = X_test[j].values.reshape(-1, 1)\n    scaler.fit(feature_data_test)\n    X_test[j] = scaler.transform(feature_data_test)\n    \nfor k in list(X_val):\n    feature_data_val = X_val[k].values.reshape(-1, 1)\n    scaler.fit(feature_data_val)\n    X_val[k] = scaler.transform(feature_data_val)",
      "metadata": {
        "id": "Lt29VKMJy9vT",
        "colab": {},
        "colab_type": "code",
        "source_hash": "f5abb80d",
        "execution_start": 1625523158429,
        "execution_millis": 17,
        "deepnote_to_be_reexecuted": false,
        "cell_id": "503b236a3f40429c9e4c30fe59c6b79a",
        "deepnote_cell_type": "code"
      },
      "outputs": [],
      "execution_count": 9
    },
    {
      "cell_type": "markdown",
      "source": "## Using sklearn's k-NNA\n\nLuckily for us, sklearn has some quick and easy functions for normalizing the data, finding Euclidean distances, training, and testing with [k-NNA](https://scikit-learn.org/stable/modules/generated/sklearn.neighbors.KNeighborsClassifier.html). Try k = 5 to start.",
      "metadata": {
        "id": "7-2ZM8AGIe0S",
        "colab_type": "text",
        "cell_id": "9904b5742580484986437f826cc9b355",
        "deepnote_cell_type": "markdown"
      }
    },
    {
      "cell_type": "code",
      "source": "from sklearn.neighbors import KNeighborsClassifier\n\n# Creating model with sklearn's KNeighborsClassifier -- after running these cells play around with the parameter n!\nknn = KNeighborsClassifier(n_neighbors=5)\n\n# Training/fitting a model with training data\nknn.fit(X_train, y_train)",
      "metadata": {
        "id": "R0FsKkp_qw-x",
        "colab": {
          "height": 73,
          "base_uri": "https://localhost:8080/"
        },
        "outputId": "30c9d111-3951-4031-d7a4-9a75618b4fb5",
        "colab_type": "code",
        "source_hash": "21834f",
        "execution_start": 1625523160729,
        "execution_millis": 84,
        "deepnote_to_be_reexecuted": false,
        "cell_id": "a0da6a00e7e0449ab5768051a1a0b559",
        "deepnote_cell_type": "code"
      },
      "outputs": [
        {
          "output_type": "execute_result",
          "execution_count": 10,
          "data": {
            "text/plain": "KNeighborsClassifier()"
          },
          "metadata": {}
        }
      ],
      "execution_count": 10
    },
    {
      "cell_type": "code",
      "source": "from sklearn.metrics import accuracy_score\nimport time\n\ny_train_pred=knn.predict(X_train)\nstart = time.time()\npredictions_fast = knn.predict(X_val)\n\nprint('Took {} seconds'.format(time.time() - start))\nprint(\"Training Accuracy is \", accuracy_score(y_train, y_train_pred)*100)\nprint(\"Validation Accuracy is \", accuracy_score(y_val,predictions_fast)*100)",
      "metadata": {
        "id": "J8y1RuAoy9vr",
        "colab": {
          "height": 73,
          "base_uri": "https://localhost:8080/"
        },
        "outputId": "4221ba2a-2497-4de4-9019-566ad130d51d",
        "colab_type": "code",
        "source_hash": "447fcafb",
        "execution_start": 1625523163283,
        "execution_millis": 34,
        "deepnote_to_be_reexecuted": false,
        "cell_id": "bd283ec5afff4f0ebafc591a8ac43ce8",
        "deepnote_cell_type": "code"
      },
      "outputs": [
        {
          "name": "stdout",
          "text": "Took 0.007113218307495117 seconds\nTraining Accuracy is  79.2\nValidation Accuracy is  80.95238095238095\n",
          "output_type": "stream"
        }
      ],
      "execution_count": 11
    },
    {
      "cell_type": "markdown",
      "source": "# Conclusions and Limitations\n\nk-NNA provides a good baseline classifier for machine learning that is conceptually intuitive and easy to implement and train. One major advantage is that, by standardizing input data, k-NNA can combine any number of features regardless of their original distributions.\n\nHowever, k-NNA can run into problems with more complex data sets:\n* With additional dimensions, it can be harder to define meaningful distances.\n* The testing phase can slow down significantly with large data sets since each point's distance is measured to every other point.\n* \"Majority votes\" may be skewed if one classification is significantly more common than the others.\n* There is no consideration for correlated features.\n\nAs a final note, there are other ways to instantiate k-NNA's, and other types of NNA beyond k-Nearest. For example, to solve the large majority problem, we could have used a weighted voting system where nearer neighbors' votes carry more weight.",
      "metadata": {
        "id": "w-hHcKgsy9vw",
        "colab_type": "text",
        "cell_id": "7a6bea228e6c4803845368208de6ae2a",
        "deepnote_cell_type": "markdown"
      }
    },
    {
      "cell_type": "markdown",
      "source": "<a style='text-decoration:none;line-height:16px;display:flex;color:#5B5B62;padding:10px;justify-content:end;' href='https://deepnote.com?utm_source=created-in-deepnote-cell&projectId=050bb9fe-1507-4f92-8f7e-3531e1ab3657' target=\"_blank\">\n<img alt='Created in deepnote.com' style='display:inline;max-height:16px;margin:0px;margin-right:7.5px;' src='data:image/svg+xml;base64,PD94bWwgdmVyc2lvbj0iMS4wIiBlbmNvZGluZz0iVVRGLTgiPz4KPHN2ZyB3aWR0aD0iODBweCIgaGVpZ2h0PSI4MHB4IiB2aWV3Qm94PSIwIDAgODAgODAiIHZlcnNpb249IjEuMSIgeG1sbnM9Imh0dHA6Ly93d3cudzMub3JnLzIwMDAvc3ZnIiB4bWxuczp4bGluaz0iaHR0cDovL3d3dy53My5vcmcvMTk5OS94bGluayI+CiAgICA8IS0tIEdlbmVyYXRvcjogU2tldGNoIDU0LjEgKDc2NDkwKSAtIGh0dHBzOi8vc2tldGNoYXBwLmNvbSAtLT4KICAgIDx0aXRsZT5Hcm91cCAzPC90aXRsZT4KICAgIDxkZXNjPkNyZWF0ZWQgd2l0aCBTa2V0Y2guPC9kZXNjPgogICAgPGcgaWQ9IkxhbmRpbmciIHN0cm9rZT0ibm9uZSIgc3Ryb2tlLXdpZHRoPSIxIiBmaWxsPSJub25lIiBmaWxsLXJ1bGU9ImV2ZW5vZGQiPgogICAgICAgIDxnIGlkPSJBcnRib2FyZCIgdHJhbnNmb3JtPSJ0cmFuc2xhdGUoLTEyMzUuMDAwMDAwLCAtNzkuMDAwMDAwKSI+CiAgICAgICAgICAgIDxnIGlkPSJHcm91cC0zIiB0cmFuc2Zvcm09InRyYW5zbGF0ZSgxMjM1LjAwMDAwMCwgNzkuMDAwMDAwKSI+CiAgICAgICAgICAgICAgICA8cG9seWdvbiBpZD0iUGF0aC0yMCIgZmlsbD0iIzAyNjVCNCIgcG9pbnRzPSIyLjM3NjIzNzYyIDgwIDM4LjA0NzY2NjcgODAgNTcuODIxNzgyMiA3My44MDU3NTkyIDU3LjgyMTc4MjIgMzIuNzU5MjczOSAzOS4xNDAyMjc4IDMxLjY4MzE2ODMiPjwvcG9seWdvbj4KICAgICAgICAgICAgICAgIDxwYXRoIGQ9Ik0zNS4wMDc3MTgsODAgQzQyLjkwNjIwMDcsNzYuNDU0OTM1OCA0Ny41NjQ5MTY3LDcxLjU0MjI2NzEgNDguOTgzODY2LDY1LjI2MTk5MzkgQzUxLjExMjI4OTksNTUuODQxNTg0MiA0MS42NzcxNzk1LDQ5LjIxMjIyODQgMjUuNjIzOTg0Niw0OS4yMTIyMjg0IEMyNS40ODQ5Mjg5LDQ5LjEyNjg0NDggMjkuODI2MTI5Niw0My4yODM4MjQ4IDM4LjY0NzU4NjksMzEuNjgzMTY4MyBMNzIuODcxMjg3MSwzMi41NTQ0MjUgTDY1LjI4MDk3Myw2Ny42NzYzNDIxIEw1MS4xMTIyODk5LDc3LjM3NjE0NCBMMzUuMDA3NzE4LDgwIFoiIGlkPSJQYXRoLTIyIiBmaWxsPSIjMDAyODY4Ij48L3BhdGg+CiAgICAgICAgICAgICAgICA8cGF0aCBkPSJNMCwzNy43MzA0NDA1IEwyNy4xMTQ1MzcsMC4yNTcxMTE0MzYgQzYyLjM3MTUxMjMsLTEuOTkwNzE3MDEgODAsMTAuNTAwMzkyNyA4MCwzNy43MzA0NDA1IEM4MCw2NC45NjA0ODgyIDY0Ljc3NjUwMzgsNzkuMDUwMzQxNCAzNC4zMjk1MTEzLDgwIEM0Ny4wNTUzNDg5LDc3LjU2NzA4MDggNTMuNDE4MjY3Nyw3MC4zMTM2MTAzIDUzLjQxODI2NzcsNTguMjM5NTg4NSBDNTMuNDE4MjY3Nyw0MC4xMjg1NTU3IDM2LjMwMzk1NDQsMzcuNzMwNDQwNSAyNS4yMjc0MTcsMzcuNzMwNDQwNSBDMTcuODQzMDU4NiwzNy43MzA0NDA1IDkuNDMzOTE5NjYsMzcuNzMwNDQwNSAwLDM3LjczMDQ0MDUgWiIgaWQ9IlBhdGgtMTkiIGZpbGw9IiMzNzkzRUYiPjwvcGF0aD4KICAgICAgICAgICAgPC9nPgogICAgICAgIDwvZz4KICAgIDwvZz4KPC9zdmc+' > </img>\nCreated in <span style='font-weight:600;margin-left:4px;'>Deepnote</span></a>",
      "metadata": {
        "created_in_deepnote_cell": true,
        "deepnote_cell_type": "markdown"
      }
    }
  ],
  "nbformat": 4,
  "nbformat_minor": 0,
  "metadata": {
    "colab": {
      "name": "NearestNeighbors_Tutorial",
      "provenance": [],
      "collapsed_sections": []
    },
    "deepnote": {},
    "kernelspec": {
      "name": "python3",
      "language": "python",
      "display_name": "Python 3"
    },
    "language_info": {
      "name": "python",
      "version": "3.7.3",
      "mimetype": "text/x-python",
      "file_extension": ".py",
      "pygments_lexer": "ipython3",
      "codemirror_mode": {
        "name": "ipython",
        "version": 3
      },
      "nbconvert_exporter": "python"
    },
    "deepnote_notebook_id": "f39a673e036146fba7bdf433f3ae56e1",
    "deepnote_execution_queue": []
  }
}